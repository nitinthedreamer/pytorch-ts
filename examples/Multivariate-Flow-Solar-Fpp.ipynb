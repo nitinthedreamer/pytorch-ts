{
 "cells": [
  {
   "cell_type": "code",
   "execution_count": 1,
   "metadata": {},
   "outputs": [],
   "source": [
    "import numpy as np\n",
    "import pandas as pd\n",
    "\n",
    "import torch"
   ]
  },
  {
   "cell_type": "code",
   "execution_count": 2,
   "metadata": {},
   "outputs": [],
   "source": [
    "from gluonts.dataset.multivariate_grouper import MultivariateGrouper\n",
    "from gluonts.dataset.repository.datasets import dataset_recipes, get_dataset\n",
    "from pts.model.tempflow import TempFlowEstimator\n",
    "from pts.model.transformer_tempflow import TransformerTempFlowEstimator\n",
    "from pts import Trainer\n",
    "from gluonts.evaluation.backtest import make_evaluation_predictions\n",
    "from gluonts.evaluation import MultivariateEvaluator"
   ]
  },
  {
   "cell_type": "code",
   "execution_count": 3,
   "metadata": {},
   "outputs": [],
   "source": [
    "device = torch.device(\"cuda\" if torch.cuda.is_available() else \"cpu\")"
   ]
  },
  {
   "cell_type": "markdown",
   "metadata": {},
   "source": [
    "## Prepeare data set"
   ]
  },
  {
   "cell_type": "code",
   "execution_count": 4,
   "metadata": {},
   "outputs": [],
   "source": [
    "dataset = get_dataset(\"solar_nips\", regenerate=False)"
   ]
  },
  {
   "cell_type": "code",
   "execution_count": 5,
   "metadata": {},
   "outputs": [
    {
     "data": {
      "text/plain": [
       "MetaData(freq='H', target=None, feat_static_cat=[CategoricalFeatureInfo(name='feat_static_cat', cardinality='137')], feat_static_real=[], feat_dynamic_real=[], feat_dynamic_cat=[], prediction_length=24)"
      ]
     },
     "execution_count": 5,
     "metadata": {},
     "output_type": "execute_result"
    }
   ],
   "source": [
    "dataset.metadata"
   ]
  },
  {
   "cell_type": "code",
   "execution_count": 6,
   "metadata": {},
   "outputs": [],
   "source": [
    "train_grouper = MultivariateGrouper(max_target_dim=int(dataset.metadata.feat_static_cat[0].cardinality))\n",
    "\n",
    "test_grouper = MultivariateGrouper(num_test_dates=int(len(dataset.test)/len(dataset.train)), \n",
    "                                   max_target_dim=int(dataset.metadata.feat_static_cat[0].cardinality))"
   ]
  },
  {
   "cell_type": "code",
   "execution_count": 7,
   "metadata": {},
   "outputs": [
    {
     "name": "stderr",
     "output_type": "stream",
     "text": [
      "/Users/nitinkumar/opt/anaconda3/lib/python3.8/site-packages/gluonts/dataset/common.py:323: FutureWarning: The 'freq' argument in Timestamp is deprecated and will be removed in a future version.\n",
      "  timestamp = pd.Timestamp(string, freq=freq)\n",
      "/Users/nitinkumar/opt/anaconda3/lib/python3.8/site-packages/gluonts/dataset/common.py:326: FutureWarning: Timestamp.freq is deprecated and will be removed in a future version\n",
      "  if isinstance(timestamp.freq, Tick):\n",
      "/Users/nitinkumar/opt/anaconda3/lib/python3.8/site-packages/gluonts/dataset/common.py:328: FutureWarning: Timestamp.freq is deprecated and will be removed in a future version\n",
      "  timestamp.floor(timestamp.freq), timestamp.freq\n",
      "/Users/nitinkumar/opt/anaconda3/lib/python3.8/site-packages/gluonts/dataset/common.py:327: FutureWarning: The 'freq' argument in Timestamp is deprecated and will be removed in a future version.\n",
      "  return pd.Timestamp(\n",
      "/Users/nitinkumar/opt/anaconda3/lib/python3.8/site-packages/gluonts/dataset/multivariate_grouper.py:106: FutureWarning: Timestamp.freq is deprecated and will be removed in a future version\n",
      "  timestamp + (len(data[FieldName.TARGET]) - 1) * timestamp.freq,\n",
      "/Users/nitinkumar/opt/anaconda3/lib/python3.8/site-packages/gluonts/dataset/multivariate_grouper.py:108: FutureWarning: Timestamp.freq is deprecated and will be removed in a future version\n",
      "  self.frequency = timestamp.freq\n",
      "/Users/nitinkumar/opt/anaconda3/lib/python3.8/site-packages/gluonts/dataset/multivariate_grouper.py:215: FutureWarning: Timestamp.freq is deprecated and will be removed in a future version\n",
      "  freq=data[FieldName.START].freq,\n",
      "/Users/nitinkumar/opt/anaconda3/lib/python3.8/site-packages/gluonts/dataset/multivariate_grouper.py:164: FutureWarning: Timestamp.freq is deprecated and will be removed in a future version\n",
      "  freq=data[FieldName.START].freq,\n",
      "/Users/nitinkumar/opt/anaconda3/lib/python3.8/site-packages/gluonts/dataset/multivariate_grouper.py:175: FutureWarning: Timestamp.freq is deprecated and will be removed in a future version\n",
      "  freq=data[FieldName.START].freq,\n",
      "/Users/nitinkumar/opt/anaconda3/lib/python3.8/site-packages/gluonts/dataset/multivariate_grouper.py:182: VisibleDeprecationWarning: Creating an ndarray from ragged nested sequences (which is a list-or-tuple of lists-or-tuples-or ndarrays with different lengths or shapes) is deprecated. If you meant to do this, you must specify 'dtype=object' when creating the ndarray.\n",
      "  return {FieldName.TARGET: np.array([funcs(data) for data in dataset])}\n"
     ]
    }
   ],
   "source": [
    "dataset_train = train_grouper(dataset.train)\n",
    "dataset_test = test_grouper(dataset.test)"
   ]
  },
  {
   "cell_type": "code",
   "execution_count": 8,
   "metadata": {},
   "outputs": [
    {
     "name": "stdout",
     "output_type": "stream",
     "text": [
      "2006-01-01 01:00:00      0.000000\n",
      "2006-01-01 02:00:00      0.000000\n",
      "2006-01-01 03:00:00      0.000000\n",
      "2006-01-01 04:00:00      0.000000\n",
      "2006-01-01 05:00:00      0.000000\n",
      "2006-01-01 06:00:00      0.000000\n",
      "2006-01-01 07:00:00      0.900000\n",
      "2006-01-01 08:00:00     32.150002\n",
      "2006-01-01 09:00:00     16.549999\n",
      "2006-01-01 10:00:00     20.549999\n",
      "2006-01-01 11:00:00     65.800003\n",
      "2006-01-01 12:00:00     45.750000\n",
      "2006-01-01 13:00:00     63.150002\n",
      "2006-01-01 14:00:00    120.550003\n",
      "2006-01-01 15:00:00     60.599998\n",
      "2006-01-01 16:00:00      0.100000\n",
      "2006-01-01 17:00:00      0.000000\n",
      "2006-01-01 18:00:00      0.000000\n",
      "2006-01-01 19:00:00      0.000000\n",
      "Freq: H, dtype: float32\n"
     ]
    },
    {
     "name": "stderr",
     "output_type": "stream",
     "text": [
      "/Users/nitinkumar/opt/anaconda3/lib/python3.8/site-packages/gluonts/dataset/util.py:128: FutureWarning: Timestamp.freqstr is deprecated and will be removed in a future version.\n",
      "  freq = start.freqstr\n"
     ]
    },
    {
     "data": {
      "image/png": "[encoded data removed]",
      "text/plain": [
       "<Figure size 432x288 with 1 Axes>"
      ]
     },
     "metadata": {
      "needs_background": "light"
     },
     "output_type": "display_data"
    }
   ],
   "source": [
    "import matplotlib.pyplot as plt\n",
    "from gluonts.dataset.util import to_pandas\n",
    "\n",
    "\n",
    "entry = next(iter(dataset.train))\n",
    "train_series = to_pandas(entry)\n",
    "subset_data = train_series[1:20]\n",
    "print(subset_data)\n",
    "subset_data.plot()\n",
    "plt.grid(which=\"both\")\n",
    "plt.legend([\"train series\"], loc=\"upper left\")\n",
    "plt.show()"
   ]
  },
  {
   "cell_type": "markdown",
   "metadata": {},
   "source": [
    "## Evaluator"
   ]
  },
  {
   "cell_type": "code",
   "execution_count": 9,
   "metadata": {},
   "outputs": [
    {
     "name": "stdout",
     "output_type": "stream",
     "text": [
      "freq='H' target=None feat_static_cat=[CategoricalFeatureInfo(name='feat_static_cat', cardinality='137')] feat_static_real=[] feat_dynamic_real=[] feat_dynamic_cat=[] prediction_length=24\n"
     ]
    }
   ],
   "source": [
    "evaluator = MultivariateEvaluator(quantiles=(np.arange(20)/20.0)[1:],\n",
    "                                  target_agg_funcs={'sum': np.sum})\n",
    "\n",
    "print(dataset.metadata)"
   ]
  },
  {
   "cell_type": "markdown",
   "metadata": {},
   "source": [
    "## `GRU-Real-NVP`"
   ]
  },
  {
   "cell_type": "code",
   "execution_count": 10,
   "metadata": {},
   "outputs": [],
   "source": [
    "estimator = TempFlowEstimator(\n",
    "    target_dim=int(dataset.metadata.feat_static_cat[0].cardinality),\n",
    "    prediction_length=dataset.metadata.prediction_length,\n",
    "    cell_type='GRU',\n",
    "    flow_type='FlowPP',\n",
    "    input_size='552',\n",
    "    freq=dataset.metadata.freq,\n",
    "    scaling=True,\n",
    "    dequantize=True,\n",
    "    n_blocks=4,\n",
    "    filters=16, \n",
    "    blocks=2, \n",
    "    components=4, \n",
    "    heads=2,\n",
    "    trainer=Trainer(device=device,\n",
    "                    epochs=1,\n",
    "                    learning_rate=1e-3,\n",
    "                    num_batches_per_epoch=100,\n",
    "                    batch_size=64)\n",
    ")"
   ]
  },
  {
   "cell_type": "code",
   "execution_count": null,
   "metadata": {},
   "outputs": [
    {
     "name": "stdout",
     "output_type": "stream",
     "text": [
      "hidden_size:  100\n",
      "n_hidden:  2\n",
      "conditioning_length:  200\n"
     ]
    },
    {
     "data": {
      "application/vnd.jupyter.widget-view+json": {
       "model_id": "6711bf13e2ae4fe1991838ce09d48e6e",
       "version_major": 2,
       "version_minor": 0
      },
      "text/plain": [
       "  0%|          | 0/99 [00:00<?, ?it/s]"
      ]
     },
     "metadata": {},
     "output_type": "display_data"
    },
    {
     "name": "stderr",
     "output_type": "stream",
     "text": [
      "/Users/nitinkumar/opt/anaconda3/lib/python3.8/site-packages/gluonts/dataset/common.py:323: FutureWarning: The 'freq' argument in Timestamp is deprecated and will be removed in a future version.\n",
      "  timestamp = pd.Timestamp(string, freq=freq)\n",
      "/Users/nitinkumar/opt/anaconda3/lib/python3.8/site-packages/gluonts/dataset/common.py:326: FutureWarning: Timestamp.freq is deprecated and will be removed in a future version\n",
      "  if isinstance(timestamp.freq, Tick):\n",
      "/Users/nitinkumar/opt/anaconda3/lib/python3.8/site-packages/gluonts/dataset/common.py:328: FutureWarning: Timestamp.freq is deprecated and will be removed in a future version\n",
      "  timestamp.floor(timestamp.freq), timestamp.freq\n",
      "/Users/nitinkumar/opt/anaconda3/lib/python3.8/site-packages/gluonts/dataset/common.py:327: FutureWarning: The 'freq' argument in Timestamp is deprecated and will be removed in a future version.\n",
      "  return pd.Timestamp(\n",
      "/Users/nitinkumar/opt/anaconda3/lib/python3.8/site-packages/gluonts/transform/split.py:36: FutureWarning: Timestamp.freq is deprecated and will be removed in a future version\n",
      "  return _shift_timestamp_helper(ts, ts.freq, offset)\n",
      "/Users/nitinkumar/opt/anaconda3/lib/python3.8/site-packages/gluonts/transform/feature.py:352: FutureWarning: Timestamp.freq is deprecated and will be removed in a future version\n",
      "  self._min_time_point, self._max_time_point, freq=start.freq\n"
     ]
    },
    {
     "name": "stdout",
     "output_type": "stream",
     "text": [
      "target shape: torch.Size([64, 48, 137])\n",
      "distr_args shape: torch.Size([64, 48, 200])\n",
      "tf.Tensor(\n",
      "[[[[ 2.31475967e+02]\n",
      "   [ 1.12709167e+02]\n",
      "   [ 1.29826721e+02]\n",
      "   ...\n",
      "   [-2.88402319e-01]\n",
      "   [ 6.32593483e-02]\n",
      "   [ 4.67448905e-02]]\n",
      "\n",
      "  [[ 2.53605133e+02]\n",
      "   [ 1.40666153e+02]\n",
      "   [ 8.87664185e+01]\n",
      "   ...\n",
      "   [-2.72821367e-01]\n",
      "   [ 8.02083164e-02]\n",
      "   [ 1.78162485e-01]]\n",
      "\n",
      "  [[ 2.14565689e+02]\n",
      "   [ 1.49175537e+02]\n",
      "   [ 1.45176483e+02]\n",
      "   ...\n",
      "   [-2.52045512e-01]\n",
      "   [ 1.28606066e-01]\n",
      "   [ 3.31378609e-01]]\n",
      "\n",
      "  ...\n",
      "\n",
      "  [[ 2.53504593e+02]\n",
      "   [ 7.29274597e+01]\n",
      "   [ 7.04432602e+01]\n",
      "   ...\n",
      "   [-1.47774816e-03]\n",
      "   [ 2.57490635e-01]\n",
      "   [-2.01015174e-02]]\n",
      "\n",
      "  [[ 2.83855316e+02]\n",
      "   [ 1.09260460e+02]\n",
      "   [ 1.07007683e+02]\n",
      "   ...\n",
      "   [-1.35532692e-01]\n",
      "   [ 2.40760699e-01]\n",
      "   [ 6.15483820e-02]]\n",
      "\n",
      "  [[ 3.03249115e+02]\n",
      "   [ 1.34438721e+02]\n",
      "   [ 1.21926346e+02]\n",
      "   ...\n",
      "   [-2.63798177e-01]\n",
      "   [ 3.27514648e-01]\n",
      "   [ 8.28586668e-02]]]\n",
      "\n",
      "\n",
      " [[[ 2.24707425e-01]\n",
      "   [ 1.34702682e-01]\n",
      "   [ 1.90464854e-02]\n",
      "   ...\n",
      "   [-4.07971591e-02]\n",
      "   [ 6.92696124e-02]\n",
      "   [ 3.09705585e-02]]\n",
      "\n",
      "  [[ 5.22485435e-01]\n",
      "   [ 1.83383524e-01]\n",
      "   [ 9.26935673e-03]\n",
      "   ...\n",
      "   [ 7.19070286e-02]\n",
      "   [ 1.23438463e-01]\n",
      "   [ 5.00182435e-02]]\n",
      "\n",
      "  [[ 1.13774776e-01]\n",
      "   [ 7.69381225e-01]\n",
      "   [ 1.60523653e-02]\n",
      "   ...\n",
      "   [ 1.20978072e-01]\n",
      "   [ 1.59864649e-01]\n",
      "   [ 6.08073175e-02]]\n",
      "\n",
      "  ...\n",
      "\n",
      "  [[ 9.08457994e-01]\n",
      "   [ 6.21217132e-01]\n",
      "   [ 5.71661592e-02]\n",
      "   ...\n",
      "   [ 6.89768642e-02]\n",
      "   [ 2.27025926e-01]\n",
      "   [ 5.53411692e-02]]\n",
      "\n",
      "  [[ 1.57054901e-01]\n",
      "   [ 3.20037603e-01]\n",
      "   [ 4.71988082e-01]\n",
      "   ...\n",
      "   [ 1.09362409e-01]\n",
      "   [ 2.37702683e-01]\n",
      "   [ 5.27605861e-02]]\n",
      "\n",
      "  [[ 3.37716460e-01]\n",
      "   [ 4.73499894e-02]\n",
      "   [ 8.31971765e-01]\n",
      "   ...\n",
      "   [ 9.07855779e-02]\n",
      "   [ 2.22004786e-01]\n",
      "   [ 3.47791687e-02]]]\n",
      "\n",
      "\n",
      " [[[ 3.99081707e-01]\n",
      "   [ 1.11579120e-01]\n",
      "   [ 3.36298406e-01]\n",
      "   ...\n",
      "   [-2.98081636e-02]\n",
      "   [ 7.37736076e-02]\n",
      "   [ 1.55051798e-02]]\n",
      "\n",
      "  [[ 6.80025101e-01]\n",
      "   [ 7.59896338e-01]\n",
      "   [ 3.87022555e-01]\n",
      "   ...\n",
      "   [ 6.32906407e-02]\n",
      "   [ 1.29531279e-01]\n",
      "   [ 6.57376200e-02]]\n",
      "\n",
      "  [[ 6.60472333e-01]\n",
      "   [ 2.55591750e-01]\n",
      "   [ 9.58565295e-01]\n",
      "   ...\n",
      "   [ 1.18013903e-01]\n",
      "   [ 1.98412582e-01]\n",
      "   [ 7.64672905e-02]]\n",
      "\n",
      "  ...\n",
      "\n",
      "  [[ 1.11429572e-01]\n",
      "   [ 3.91085446e-01]\n",
      "   [ 3.88458431e-01]\n",
      "   ...\n",
      "   [ 1.39131293e-01]\n",
      "   [ 2.21598327e-01]\n",
      "   [ 9.33711231e-03]]\n",
      "\n",
      "  [[ 5.54816782e-01]\n",
      "   [ 2.24409938e-01]\n",
      "   [ 2.33912706e-01]\n",
      "   ...\n",
      "   [ 1.51403204e-01]\n",
      "   [ 2.07695261e-01]\n",
      "   [ 2.72500291e-02]]\n",
      "\n",
      "  [[ 5.53233027e-02]\n",
      "   [ 2.39815772e-01]\n",
      "   [ 1.19337499e-01]\n",
      "   ...\n",
      "   [ 1.92907467e-01]\n",
      "   [ 1.99583411e-01]\n",
      "   [ 2.24933699e-02]]]\n",
      "\n",
      "\n",
      " ...\n",
      "\n",
      "\n",
      " [[[ 9.58908260e-01]\n",
      "   [ 4.01618063e-01]\n",
      "   [ 9.49994564e-01]\n",
      "   ...\n",
      "   [-2.00126320e-02]\n",
      "   [ 9.11793560e-02]\n",
      "   [ 6.81942105e-02]]\n",
      "\n",
      "  [[ 4.07247782e-01]\n",
      "   [ 6.86652362e-01]\n",
      "   [ 6.00181639e-01]\n",
      "   ...\n",
      "   [ 7.31168240e-02]\n",
      "   [ 2.02717111e-01]\n",
      "   [ 1.30952746e-01]]\n",
      "\n",
      "  [[ 4.99962449e-01]\n",
      "   [ 3.79450202e-01]\n",
      "   [ 9.91526842e-01]\n",
      "   ...\n",
      "   [ 1.04094163e-01]\n",
      "   [ 2.02632904e-01]\n",
      "   [ 7.79292881e-02]]\n",
      "\n",
      "  ...\n",
      "\n",
      "  [[ 1.27065063e-01]\n",
      "   [ 1.92064047e-03]\n",
      "   [ 1.88964605e-01]\n",
      "   ...\n",
      "   [ 1.69853404e-01]\n",
      "   [ 1.84247077e-01]\n",
      "   [-7.59929121e-02]]\n",
      "\n",
      "  [[ 4.80076790e-01]\n",
      "   [ 7.99241066e-02]\n",
      "   [ 3.85907769e-01]\n",
      "   ...\n",
      "   [ 1.34659961e-01]\n",
      "   [ 2.58591712e-01]\n",
      "   [-1.10628679e-01]]\n",
      "\n",
      "  [[ 8.34427714e-01]\n",
      "   [ 6.14978015e-01]\n",
      "   [ 2.14660108e-01]\n",
      "   ...\n",
      "   [ 1.60574481e-01]\n",
      "   [ 3.21792126e-01]\n",
      "   [ 2.96354294e-04]]]\n",
      "\n",
      "\n",
      " [[[ 1.02676651e+02]\n",
      "   [ 1.47509260e+01]\n",
      "   [ 2.36598568e+01]\n",
      "   ...\n",
      "   [-2.89196521e-01]\n",
      "   [ 4.56188470e-02]\n",
      "   [ 3.10600773e-02]]\n",
      "\n",
      "  [[ 2.82791500e+01]\n",
      "   [ 1.07562900e+00]\n",
      "   [ 1.74691987e+00]\n",
      "   ...\n",
      "   [-1.97772518e-01]\n",
      "   [ 9.03272927e-02]\n",
      "   [ 9.93978530e-02]]\n",
      "\n",
      "  [[ 4.82964933e-01]\n",
      "   [ 3.78777683e-01]\n",
      "   [ 6.14764035e-01]\n",
      "   ...\n",
      "   [-1.02050826e-01]\n",
      "   [ 9.20509398e-02]\n",
      "   [ 7.13758469e-02]]\n",
      "\n",
      "  ...\n",
      "\n",
      "  [[ 8.66369781e+01]\n",
      "   [ 1.35895187e+02]\n",
      "   [ 1.29263824e+02]\n",
      "   ...\n",
      "   [-2.47901931e-01]\n",
      "   [ 2.10457489e-01]\n",
      "   [ 3.37012857e-01]]\n",
      "\n",
      "  [[ 1.39506332e+02]\n",
      "   [ 8.95780487e+01]\n",
      "   [ 9.73349762e+01]\n",
      "   ...\n",
      "   [-2.32697099e-01]\n",
      "   [ 2.31895909e-01]\n",
      "   [ 2.60828912e-01]]\n",
      "\n",
      "  [[ 1.73348099e+02]\n",
      "   [ 7.71668243e+01]\n",
      "   [ 6.04872780e+01]\n",
      "   ...\n",
      "   [-2.71716356e-01]\n",
      "   [ 2.80855536e-01]\n",
      "   [ 2.48970240e-01]]]\n",
      "\n",
      "\n",
      " [[[ 1.44384674e+02]\n",
      "   [ 3.31355667e+01]\n",
      "   [ 2.86715641e+01]\n",
      "   ...\n",
      "   [-1.94855347e-01]\n",
      "   [ 4.70786691e-02]\n",
      "   [ 9.10133868e-02]]\n",
      "\n",
      "  [[ 1.05230494e+01]\n",
      "   [ 1.09512711e+00]\n",
      "   [ 1.02931416e+00]\n",
      "   ...\n",
      "   [-9.23372433e-02]\n",
      "   [ 1.50393009e-01]\n",
      "   [ 9.03128237e-02]]\n",
      "\n",
      "  [[ 2.39930511e-01]\n",
      "   [ 7.98566580e-01]\n",
      "   [ 9.35816586e-01]\n",
      "   ...\n",
      "   [ 2.59954482e-02]\n",
      "   [ 1.59580752e-01]\n",
      "   [ 4.93048429e-02]]\n",
      "\n",
      "  ...\n",
      "\n",
      "  [[ 2.61488525e+02]\n",
      "   [ 1.36981186e+02]\n",
      "   [ 1.37841690e+02]\n",
      "   ...\n",
      "   [-3.70938361e-01]\n",
      "   [ 2.55505919e-01]\n",
      "   [ 3.20421070e-01]]\n",
      "\n",
      "  [[ 2.53795181e+02]\n",
      "   [ 1.12589806e+02]\n",
      "   [ 1.10301224e+02]\n",
      "   ...\n",
      "   [-4.00486648e-01]\n",
      "   [ 3.08035254e-01]\n",
      "   [ 3.14763606e-01]]\n",
      "\n",
      "  [[ 2.20955750e+02]\n",
      "   [ 7.28967590e+01]\n",
      "   [ 7.18531723e+01]\n",
      "   ...\n",
      "   [-4.49451923e-01]\n",
      "   [ 3.92291367e-01]\n",
      "   [ 2.96951473e-01]]]], shape=(64, 48, 337, 1), dtype=float32)\n",
      "(64, 48, 337, 1)\n"
     ]
    }
   ],
   "source": [
    "predictor = estimator.train(dataset_train)\n",
    "# forecast_it, ts_it = make_evaluation_predictions(dataset=dataset_test,\n",
    "#                                              predictor=predictor,\n",
    "#                                              num_samples=100)\n",
    "# forecasts = list(forecast_it)\n",
    "# targets = list(ts_it)\n",
    "\n",
    "# agg_metric, _ = evaluator(targets, forecasts, num_series=len(dataset_test))"
   ]
  },
  {
   "cell_type": "markdown",
   "metadata": {},
   "source": [
    "### Metrics"
   ]
  },
  {
   "cell_type": "code",
   "execution_count": null,
   "metadata": {},
   "outputs": [],
   "source": [
    "print(\"CRPS: {}\".format(agg_metric['mean_wQuantileLoss']))\n",
    "print(\"ND: {}\".format(agg_metric['ND']))\n",
    "print(\"NRMSE: {}\".format(agg_metric['NRMSE']))\n",
    "print(\"MSE: {}\".format(agg_metric['MSE']))"
   ]
  },
  {
   "cell_type": "code",
   "execution_count": null,
   "metadata": {},
   "outputs": [],
   "source": [
    "print(\"CRPS-Sum: {}\".format(agg_metric['m_sum_mean_wQuantileLoss']))\n",
    "print(\"ND-Sum: {}\".format(agg_metric['m_sum_ND']))\n",
    "print(\"NRMSE-Sum: {}\".format(agg_metric['m_sum_NRMSE']))\n",
    "print(\"MSE-Sum: {}\".format(agg_metric['m_sum_MSE']))"
   ]
  },
  {
   "cell_type": "markdown",
   "metadata": {},
   "source": [
    "## `GRU-MAF`"
   ]
  },
  {
   "cell_type": "code",
   "execution_count": null,
   "metadata": {},
   "outputs": [],
   "source": [
    "estimator = TempFlowEstimator(\n",
    "    target_dim=int(dataset.metadata.feat_static_cat[0].cardinality),\n",
    "    prediction_length=dataset.metadata.prediction_length,\n",
    "    cell_type='GRU',\n",
    "    input_size=552,\n",
    "    freq=dataset.metadata.freq,\n",
    "    scaling=True,\n",
    "    dequantize=True,\n",
    "    flow_type='MAF',\n",
    "    trainer=Trainer(device=device,\n",
    "                    epochs=25,\n",
    "                    learning_rate=1e-3,\n",
    "                    num_batches_per_epoch=100,\n",
    "                    batch_size=64)\n",
    ")"
   ]
  },
  {
   "cell_type": "code",
   "execution_count": null,
   "metadata": {},
   "outputs": [],
   "source": [
    "predictor = estimator.train(dataset_train)\n",
    "forecast_it, ts_it = make_evaluation_predictions(dataset=dataset_test,\n",
    "                                             predictor=predictor,\n",
    "                                             num_samples=100)\n",
    "forecasts = list(forecast_it)\n",
    "targets = list(ts_it)\n",
    "\n",
    "agg_metric, _ = evaluator(targets, forecasts, num_series=len(dataset_test))"
   ]
  },
  {
   "cell_type": "markdown",
   "metadata": {},
   "source": [
    "### Metrics"
   ]
  },
  {
   "cell_type": "code",
   "execution_count": null,
   "metadata": {},
   "outputs": [],
   "source": [
    "print(\"CRPS: {}\".format(agg_metric['mean_wQuantileLoss']))\n",
    "print(\"ND: {}\".format(agg_metric['ND']))\n",
    "print(\"NRMSE: {}\".format(agg_metric['NRMSE']))\n",
    "print(\"MSE: {}\".format(agg_metric['MSE']))"
   ]
  },
  {
   "cell_type": "code",
   "execution_count": null,
   "metadata": {},
   "outputs": [],
   "source": [
    "print(\"CRPS-Sum: {}\".format(agg_metric['m_sum_mean_wQuantileLoss']))\n",
    "print(\"ND-Sum: {}\".format(agg_metric['m_sum_ND']))\n",
    "print(\"NRMSE-Sum: {}\".format(agg_metric['m_sum_NRMSE']))\n",
    "print(\"MSE-Sum: {}\".format(agg_metric['m_sum_MSE']))"
   ]
  },
  {
   "cell_type": "markdown",
   "metadata": {},
   "source": [
    "## `Transformer-MAF`"
   ]
  },
  {
   "cell_type": "code",
   "execution_count": null,
   "metadata": {},
   "outputs": [],
   "source": [
    "estimator = TransformerTempFlowEstimator(\n",
    "    d_model=16,\n",
    "    num_heads=4,\n",
    "    input_size=552,\n",
    "    target_dim=int(dataset.metadata.feat_static_cat[0].cardinality),\n",
    "    prediction_length=dataset.metadata.prediction_length,\n",
    "    context_length=dataset.metadata.prediction_length*4,\n",
    "    flow_type='MAF',\n",
    "    dequantize=True,\n",
    "    freq=dataset.metadata.freq,\n",
    "    trainer=Trainer(\n",
    "        device=device,\n",
    "        epochs=14,\n",
    "        learning_rate=1e-3,\n",
    "        num_batches_per_epoch=100,\n",
    "        batch_size=64,\n",
    "    )\n",
    ")"
   ]
  },
  {
   "cell_type": "code",
   "execution_count": null,
   "metadata": {},
   "outputs": [],
   "source": [
    "predictor = estimator.train(dataset_train)\n",
    "forecast_it, ts_it = make_evaluation_predictions(dataset=dataset_test,\n",
    "                                             predictor=predictor,\n",
    "                                             num_samples=100)\n",
    "forecasts = list(forecast_it)\n",
    "targets = list(ts_it)\n",
    "\n",
    "agg_metric, _ = evaluator(targets, forecasts, num_series=len(dataset_test))"
   ]
  },
  {
   "cell_type": "markdown",
   "metadata": {},
   "source": [
    "### Metrics"
   ]
  },
  {
   "cell_type": "code",
   "execution_count": null,
   "metadata": {},
   "outputs": [],
   "source": [
    "print(\"CRPS: {}\".format(agg_metric['mean_wQuantileLoss']))\n",
    "print(\"ND: {}\".format(agg_metric['ND']))\n",
    "print(\"NRMSE: {}\".format(agg_metric['NRMSE']))\n",
    "print(\"MSE: {}\".format(agg_metric['MSE']))"
   ]
  },
  {
   "cell_type": "code",
   "execution_count": null,
   "metadata": {},
   "outputs": [],
   "source": [
    "print(\"CRPS-Sum: {}\".format(agg_metric['m_sum_mean_wQuantileLoss']))\n",
    "print(\"ND-Sum: {}\".format(agg_metric['m_sum_ND']))\n",
    "print(\"NRMSE-Sum: {}\".format(agg_metric['m_sum_NRMSE']))\n",
    "print(\"MSE-Sum: {}\".format(agg_metric['m_sum_MSE']))"
   ]
  },
  {
   "cell_type": "code",
   "execution_count": null,
   "metadata": {},
   "outputs": [],
   "source": []
  },
  {
   "cell_type": "code",
   "execution_count": null,
   "metadata": {},
   "outputs": [],
   "source": []
  },
  {
   "cell_type": "code",
   "execution_count": null,
   "metadata": {},
   "outputs": [],
   "source": []
  },
  {
   "cell_type": "code",
   "execution_count": null,
   "metadata": {},
   "outputs": [],
   "source": []
  }
 ],
 "metadata": {
  "kernelspec": {
   "display_name": "Python 3 (ipykernel)",
   "language": "python",
   "name": "python3"
  },
  "language_info": {
   "codemirror_mode": {
    "name": "ipython",
    "version": 3
   },
   "file_extension": ".py",
   "mimetype": "text/x-python",
   "name": "python",
   "nbconvert_exporter": "python",
   "pygments_lexer": "ipython3",
   "version": "3.8.12"
  }
 },
 "nbformat": 4,
 "nbformat_minor": 4
}
